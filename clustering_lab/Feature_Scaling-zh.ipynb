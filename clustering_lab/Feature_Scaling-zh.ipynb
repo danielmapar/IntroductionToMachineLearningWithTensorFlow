{
 "cells": [
  {
   "cell_type": "markdown",
   "metadata": {},
   "source": [
    "### 特征缩放\n",
    "\n",
    "对于任何基于距离的机器学习模型（正则化回归方法、神经网络，现在是 KMeans ），你都需要缩放数据。\n",
    "\n",
    "如果你的数据有一些尺度完全不同的特征，则将会对 KMeans 的聚类结果有很大的影响。\n",
    "\n",
    "在本 Notebook 中，你会看到第一手的资料。 首先，让我们导入必要的库。"
   ]
  },
  {
   "cell_type": "code",
   "execution_count": null,
   "metadata": {
    "collapsed": true
   },
   "outputs": [],
   "source": [
    "import numpy as np\n",
    "import pandas as pd\n",
    "from sklearn.cluster import KMeans\n",
    "import matplotlib.pyplot as plt\n",
    "from sklearn import preprocessing as p\n",
    "\n",
    "%matplotlib inline\n",
    "\n",
    "plt.rcParams['figure.figsize'] = (16, 9)\n",
    "import helpers2 as h\n",
    "import tests as t\n",
    "\n",
    "\n",
    "# Create the dataset for the notebook\n",
    "data = h.simulate_data(200, 2, 4)\n",
    "df = pd.DataFrame(data)\n",
    "df.columns = ['height', 'weight']\n",
    "df['height'] = np.abs(df['height']*100)\n",
    "df['weight'] = df['weight'] + np.random.normal(50, 10, 200)"
   ]
  },
  {
   "cell_type": "markdown",
   "metadata": {},
   "source": [
    "`1.` 接下来，查看数据来熟悉它。 这个数据集有个两列，它被存储在变量 df 中。 了解当前数据的分布以及可视化这些点可能很有用。  "
   ]
  },
  {
   "cell_type": "code",
   "execution_count": null,
   "metadata": {
    "collapsed": true
   },
   "outputs": [],
   "source": [
    "#Take a look at the data"
   ]
  },
  {
   "cell_type": "code",
   "execution_count": null,
   "metadata": {
    "ExecuteTime": {
     "end_time": "2019-10-18T22:18:55.997918Z",
     "start_time": "2019-10-18T22:18:55.993898Z"
    },
    "collapsed": true
   },
   "outputs": [],
   "source": [
    "#use this cell if you would like as well"
   ]
  },
  {
   "cell_type": "markdown",
   "metadata": {},
   "source": [
    "现在我们已经有了一个数据集，让我们看看一些用于缩放数据的选项, 以及如何缩放数据。我们将讨论两种非常常见的特征缩放类型：\n",
    "\n",
    "\n",
    "**I.  MinMaxScaler**\n",
    "\n",
    "在某些情况下，把你的数据看作是百分比数是有用的，即它们与最大值相比的百分比。 在这些情况下，你需要使用 **MinMaxScaler**。\n",
    "\n",
    "\n",
    "**II. StandardScaler**\n",
    "\n",
    "另一种非常流行的特征缩放类型是缩放数据使其具有均值为 0、方差为 1的分布。在这些情况下，你需要使用 **StandardScaler**。\n",
    "\n",
    "使用 **StandardScaler** 可能更适合此数据。但是，为了在python中练习特征缩放方法，我们将执行这两类缩放操作。\n",
    "\n",
    "`2.` 首先让我们用 **StandardScaler** 变换来拟合这个数据集。 我将做这个，以便你可以看到如何用 sklearn 进行数据预处理。"
   ]
  },
  {
   "cell_type": "code",
   "execution_count": null,
   "metadata": {
    "collapsed": true
   },
   "outputs": [],
   "source": [
    "df_ss = p.StandardScaler().fit_transform(df) # Fit and transform the data"
   ]
  },
  {
   "cell_type": "code",
   "execution_count": null,
   "metadata": {
    "collapsed": true
   },
   "outputs": [],
   "source": [
    "df_ss = pd.DataFrame(df_ss) #create a dataframe\n",
    "df_ss.columns = ['height', 'weight'] #add column names again\n",
    "\n",
    "plt.scatter(df_ss['height'], df_ss['weight']); # create a plot"
   ]
  },
  {
   "cell_type": "markdown",
   "metadata": {},
   "source": [
    "`3.` 现在轮到你了。 请尝试将 **MinMaxScaler** 变换拟合到此数据集。 你应该能够从前面的示例得到帮助。"
   ]
  },
  {
   "cell_type": "code",
   "execution_count": null,
   "metadata": {
    "ExecuteTime": {
     "end_time": "2019-10-18T22:59:48.940207Z",
     "start_time": "2019-10-18T22:59:48.936204Z"
    },
    "collapsed": true
   },
   "outputs": [],
   "source": [
    "# fit and transform"
   ]
  },
  {
   "cell_type": "code",
   "execution_count": null,
   "metadata": {
    "collapsed": true
   },
   "outputs": [],
   "source": [
    "#create a dataframe\n",
    "#change the column names\n",
    "#plot the data"
   ]
  },
  {
   "cell_type": "markdown",
   "metadata": {},
   "source": [
    "`4.`  现在让我们来看看 KMeans 是如何根据不同的数据缩放，对数据集进行不同的分组。 当数据缩放不同时，最终你是否得到了不同的聚类？"
   ]
  },
  {
   "cell_type": "code",
   "execution_count": null,
   "metadata": {
    "ExecuteTime": {
     "end_time": "2019-10-18T23:10:38.768509Z",
     "start_time": "2019-10-18T23:10:38.655420Z"
    }
   },
   "outputs": [],
   "source": [
    "def fit_kmeans(data, centers):\n",
    "    '''\n",
    "    INPUT:\n",
    "        data = the dataset you would like to fit kmeans to (dataframe)\n",
    "        centers = the number of centroids (int)\n",
    "    OUTPUT:\n",
    "        labels - the labels for each datapoint to which group it belongs (nparray)\n",
    "    \n",
    "    '''\n",
    "    kmeans = KMeans(centers)\n",
    "    labels = kmeans.fit_predict(data)\n",
    "    return labels\n",
    "\n",
    "labels = fit_kmeans(df, 10) #fit kmeans to get the labels\n",
    "    \n",
    "# Plot the original data with clusters\n",
    "plt.scatter(df['height'], df['weight'], c=labels, cmap='Set1');"
   ]
  },
  {
   "cell_type": "code",
   "execution_count": null,
   "metadata": {
    "collapsed": true
   },
   "outputs": [],
   "source": [
    "#plot each of the scaled datasets"
   ]
  },
  {
   "cell_type": "code",
   "execution_count": null,
   "metadata": {
    "collapsed": true
   },
   "outputs": [],
   "source": [
    "#another plot of the other scaled dataset"
   ]
  },
  {
   "cell_type": "markdown",
   "metadata": {},
   "source": [
    "请在这里写下你的回答！"
   ]
  },
  {
   "cell_type": "code",
   "execution_count": null,
   "metadata": {
    "collapsed": true
   },
   "outputs": [],
   "source": []
  }
 ],
 "metadata": {
  "anaconda-cloud": {},
  "hide_input": false,
  "kernelspec": {
   "display_name": "Python 3",
   "language": "python",
   "name": "python3"
  },
  "language_info": {
   "codemirror_mode": {
    "name": "ipython",
    "version": 3
   },
   "file_extension": ".py",
   "mimetype": "text/x-python",
   "name": "python",
   "nbconvert_exporter": "python",
   "pygments_lexer": "ipython3",
   "version": "3.6.3"
  },
  "latex_envs": {
   "LaTeX_envs_menu_present": true,
   "autoclose": false,
   "autocomplete": true,
   "bibliofile": "biblio.bib",
   "cite_by": "apalike",
   "current_citInitial": 1,
   "eqLabelWithNumbers": true,
   "eqNumInitial": 1,
   "hotkeys": {
    "equation": "Ctrl-E",
    "itemize": "Ctrl-I"
   },
   "labels_anchors": false,
   "latex_user_defs": false,
   "report_style_numbering": false,
   "user_envs_cfg": false
  },
  "toc": {
   "base_numbering": 1,
   "nav_menu": {},
   "number_sections": true,
   "sideBar": true,
   "skip_h1_title": false,
   "title_cell": "Table of Contents",
   "title_sidebar": "Contents",
   "toc_cell": false,
   "toc_position": {},
   "toc_section_display": true,
   "toc_window_display": false
  },
  "varInspector": {
   "cols": {
    "lenName": 16,
    "lenType": 16,
    "lenVar": 40
   },
   "kernels_config": {
    "python": {
     "delete_cmd_postfix": "",
     "delete_cmd_prefix": "del ",
     "library": "var_list.py",
     "varRefreshCmd": "print(var_dic_list())"
    },
    "r": {
     "delete_cmd_postfix": ") ",
     "delete_cmd_prefix": "rm(",
     "library": "var_list.r",
     "varRefreshCmd": "cat(var_dic_list()) "
    }
   },
   "types_to_exclude": [
    "module",
    "function",
    "builtin_function_or_method",
    "instance",
    "_Feature"
   ],
   "window_display": false
  }
 },
 "nbformat": 4,
 "nbformat_minor": 2
}
