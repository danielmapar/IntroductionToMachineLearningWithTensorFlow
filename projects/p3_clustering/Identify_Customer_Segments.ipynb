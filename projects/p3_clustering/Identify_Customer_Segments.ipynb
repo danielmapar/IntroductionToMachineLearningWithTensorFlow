version https://git-lfs.github.com/spec/v1
oid sha256:df2290724d610a17c41c26cd1c85f5eb5f3fcdfdda26a2af7da6fab706f5c660
size 275803
