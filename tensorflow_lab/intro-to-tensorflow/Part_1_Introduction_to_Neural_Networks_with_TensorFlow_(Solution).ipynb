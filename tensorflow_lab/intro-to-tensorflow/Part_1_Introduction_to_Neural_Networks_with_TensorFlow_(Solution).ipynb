{
 "cells": [
  {
   "cell_type": "markdown",
   "metadata": {
    "colab_type": "text",
    "id": "q9aaxiSJg60h"
   },
   "source": [
    "# Introduction to Neural Networks with TensorFlow\n",
    "\n",
    "In this notebook, you'll get introduced to [TensorFlow](https://www.tensorflow.org/), an open source library to help you develop and train machine learning models.\n",
    "\n",
    "TensorFlow in a lot of ways behaves like the arrays you love from NumPy. NumPy arrays, after all, are just tensors. TensorFlow takes these tensors and makes it simple to move them to GPUs for the faster processing needed when training neural networks. TensorFlow can also calculate gradients automatically, which is perfect for backpropagation, and has  intuitive high-level APIs specifically for building neural networks. "
   ]
  },
  {
   "cell_type": "markdown",
   "metadata": {
    "colab_type": "text",
    "id": "Q6WXEV-OiFY7"
   },
   "source": [
    "## Neural Networks\n",
    "\n",
    "Deep Learning is based on artificial neural networks which have been around in some form since the late 1950s. The networks are built from individual parts approximating neurons, typically called units or simply \"neurons.\" Each unit has some number of weighted inputs. These weighted inputs are summed together (a linear combination) then passed through an activation function to get the unit's output.\n",
    "\n",
    "<img src=\"assets/simple_neuron.png\" width=400px>\n",
    "\n",
    "Mathematically, the above looks like: \n",
    "\n",
    "$$\n",
    "y = f(h)\n",
    "$$\n",
    "\n",
    "where,\n",
    "\n",
    "$$\n",
    "h = w_1 x_1 + w_2 x_2 + b = \\sum_{i=1}^2 w_i x_i + b\n",
    "$$\n",
    "\n",
    "If we let $b = w_0x_0$, then we can express $h$ as the dot/inner product of two vectors:\n",
    "\n",
    "$$\n",
    "h = \\begin{bmatrix}\n",
    "x_0 \\, x_1 \\, x_2\n",
    "\\end{bmatrix}\n",
    "\\cdot \n",
    "\\begin{bmatrix}\n",
    "           w_0 \\\\\n",
    "           w_1 \\\\\n",
    "           w_2\n",
    "\\end{bmatrix} = w_0 x_0 + w_1 x_1 + w_2 x_2\n",
    "$$"
   ]
  },
  {
   "cell_type": "markdown",
   "metadata": {
    "colab_type": "text",
    "id": "AcBD-UAaiaUc"
   },
   "source": [
    "## Tensors\n",
    "\n",
    "It turns out neural network computations are just a bunch of linear algebra operations on *tensors*, a generalization of matrices. A vector is a 1-dimensional tensor, a matrix is a 2-dimensional tensor, an array with three indices is a 3-dimensional tensor (RGB color images for example). The fundamental data structure for neural networks are tensors and TensorFlow is built around tensors.\n",
    "\n",
    "<img src=\"assets/tensor_examples.svg\" width=600px>\n",
    "\n",
    "With the basics covered, it's time to explore how we can use TensorFlow to build a simple neural network."
   ]
  },
  {
   "cell_type": "markdown",
   "metadata": {
    "colab_type": "text",
    "id": "pt6qo5hiesm7"
   },
   "source": [
    "## Import Resources"
   ]
  },
  {
   "cell_type": "code",
   "execution_count": 2,
   "metadata": {
    "colab": {},
    "colab_type": "code",
    "id": "adTiqrSxkPvL"
   },
   "outputs": [],
   "source": [
    "import warnings\n",
    "warnings.filterwarnings('ignore')\n",
    "\n",
    "import numpy as np\n",
    "import tensorflow as tf"
   ]
  },
  {
   "cell_type": "code",
   "execution_count": 3,
   "metadata": {},
   "outputs": [],
   "source": [
    "import logging\n",
    "logger = tf.get_logger()\n",
    "logger.setLevel(logging.ERROR)"
   ]
  },
  {
   "cell_type": "code",
   "execution_count": 4,
   "metadata": {
    "colab": {
     "base_uri": "https://localhost:8080/",
     "height": 51
    },
    "colab_type": "code",
    "id": "jyZjjOb-V4eo",
    "outputId": "0bb960f6-e973-46af-eccb-a923475310e3"
   },
   "outputs": [
    {
     "name": "stdout",
     "output_type": "stream",
     "text": [
      "Using:\n",
      "\t• TensorFlow version: 2.0.0-beta1\n"
     ]
    }
   ],
   "source": [
    "print('Using:')\n",
    "print('\\t\\u2022 TensorFlow version:', tf.__version__)"
   ]
  },
  {
   "cell_type": "markdown",
   "metadata": {
    "colab_type": "text",
    "id": "IVTYgypBfx2a"
   },
   "source": [
    "## Single Layer Neural Network"
   ]
  },
  {
   "cell_type": "code",
   "execution_count": 5,
   "metadata": {
    "colab": {
     "base_uri": "https://localhost:8080/",
     "height": 153
    },
    "colab_type": "code",
    "id": "UDJArguZkLPJ",
    "outputId": "8f187357-5089-49ab-8112-2819fa3ec786"
   },
   "outputs": [
    {
     "name": "stdout",
     "output_type": "stream",
     "text": [
      "Features:\n",
      " tf.Tensor([[ 0.5983449   0.06276207  0.14631742  0.48481876 -0.23572342]], shape=(1, 5), dtype=float32)\n",
      "\n",
      "Weights:\n",
      " tf.Tensor([[-2.2733312  -1.6592104  -0.2633568  -0.80923414  1.0294315 ]], shape=(1, 5), dtype=float32)\n",
      "\n",
      "Bias:\n",
      " tf.Tensor([[1.5749502]], shape=(1, 1), dtype=float32)\n"
     ]
    }
   ],
   "source": [
    "# Set the random seed so things are reproducible\n",
    "tf.random.set_seed(7) \n",
    "\n",
    "# Create 5 random input features\n",
    "features = tf.random.normal((1, 5))\n",
    "\n",
    "# Create random weights for our neural network\n",
    "weights = tf.random.normal((1, 5))\n",
    "\n",
    "# Create a random bias term for our neural network\n",
    "bias = tf.random.normal((1, 1))\n",
    "\n",
    "print('Features:\\n', features)\n",
    "print('\\nWeights:\\n', weights)\n",
    "print('\\nBias:\\n', bias)"
   ]
  },
  {
   "cell_type": "markdown",
   "metadata": {
    "colab_type": "text",
    "id": "7o-2IomPkZx6"
   },
   "source": [
    "Above we generated data we can use to get the output of our simple network. This is all just random for now, going forward we'll start using real data. \n",
    "\n",
    "As we can see above, in TensorFlow, tensors are `tf.Tensor` objects that have a data type and a shape. Now let's go through each relevant line:\n",
    "\n",
    "* `features = tf.random.normal((1, 5))` creates a tensor with shape `(1, 5)`, one row and five columns, that contains random values from a normal distribution with a mean of zero and standard deviation of one.\n",
    "\n",
    "* `weights = tf.random.normal((1, 5))` creates a tensor with shape `(1, 5)`, one row and five columns, again containing random values from a normal distribution with a mean of zero and standard deviation of one.\n",
    "\n",
    "* `bias = tf.random.normal((1, 1))` creates a single random value from a normal distribution.\n",
    "\n",
    "TensorFlow's tensors can be added, multiplied, subtracted, etc., just like NumPy arrays. In general, you'll use TensorFlow's tensors pretty much the same way you'd use NumPy arrays. They come with some nice benefits though such as GPU acceleration which we'll get to later. For now, we will use the generated random data to calculate the output of this simple single layer network.\n",
    "\n",
    "Now we create the activation function we are going to use:"
   ]
  },
  {
   "cell_type": "code",
   "execution_count": 6,
   "metadata": {
    "colab": {},
    "colab_type": "code",
    "id": "wmOi7zjFgsMM"
   },
   "outputs": [],
   "source": [
    "def sigmoid_activation(x):\n",
    "    \"\"\" Sigmoid activation function\n",
    "    \n",
    "        Arguments\n",
    "        ---------\n",
    "        x: tf.Tensor. Must be one of the following types: bfloat16, half, float32, float64, complex64, complex128.\n",
    "    \"\"\"\n",
    "    return 1/(1+tf.exp(-x))"
   ]
  },
  {
   "cell_type": "markdown",
   "metadata": {
    "colab_type": "text",
    "id": "57QrwP-0gny1"
   },
   "source": [
    "Now, let's calculate the output of our single layer neural network.\n",
    "\n",
    "> **Exercise**: Calculate the output of the network with input features `features`, weights `weights`, and bias `bias`. Similar to NumPy, TensorFlow has a `tf.multiply(a, b)` that multiplies tensors `a` and `b` element-wise. It also has `tf.reduce_sum(x)` that computes the sum of the elements of tensor `x`. Use the `sigmoid_activation` function defined above as the activation function."
   ]
  },
  {
   "cell_type": "code",
   "execution_count": 7,
   "metadata": {
    "colab": {
     "base_uri": "https://localhost:8080/",
     "height": 51
    },
    "colab_type": "code",
    "id": "qujbYK1nkaW-",
    "outputId": "d69a6561-5414-49e3-e8f3-419892991533"
   },
   "outputs": [
    {
     "name": "stdout",
     "output_type": "stream",
     "text": [
      "label:\n",
      " tf.Tensor([[0.3628656]], shape=(1, 1), dtype=float32)\n"
     ]
    }
   ],
   "source": [
    "## Solution\n",
    "y = sigmoid_activation(tf.reduce_sum(tf.multiply(features, weights)) + bias)\n",
    "\n",
    "print('label:\\n', y)"
   ]
  },
  {
   "cell_type": "markdown",
   "metadata": {
    "colab_type": "text",
    "id": "gx6LpDRakgOD"
   },
   "source": [
    "You can do the multiplication and sum in the same operation using a matrix multiplication. In general, you'll want to use matrix multiplications since they are more efficient and accelerated using modern libraries and high-performance computing on GPUs.\n",
    "\n",
    "Here, we want to do a matrix multiplication of the features and the weights. For this we can use `tf.matmul()`. If we try to do it with `features` and `weights` as they are, we'll get an error\n",
    "\n",
    "```python\n",
    ">> tf.matmul(features, weights)\n",
    "\n",
    "---------------------------------------------------------------------------\n",
    "InvalidArgumentError                      Traceback (most recent call last)\n",
    "<ipython-input-7-66a4fe44f20b> in <module>()\n",
    "      1 \n",
    "----> 2 y = sigmoid_activation(tf.matmul(features, weights) + bias)\n",
    "\n",
    "2 frames\n",
    "/usr/local/lib/python3.6/dist-packages/six.py in raise_from(value, from_value)\n",
    "\n",
    "InvalidArgumentError: Matrix size-incompatible: In[0]: [1,5], In[1]: [1,5] [Op:MatMul] name: MatMul/\n",
    "```\n",
    "\n",
    "As you're building neural networks in any framework, you'll see this often. Really often. What's happening here is our tensors aren't the correct shapes to perform a matrix multiplication. Remember that for matrix multiplications, the number of columns in the first tensor must equal to the number of rows in the second tensor. Both `features` and `weights` have the same shape, `(1, 5)`. This means we need to change the shape of `weights` to get the matrix multiplication to work.\n",
    "\n",
    "**Note:** To see the shape of a tensor called `tensor`, use `tensor.shape`. If you're building neural networks, you'll be using this method often."
   ]
  },
  {
   "cell_type": "code",
   "execution_count": 8,
   "metadata": {
    "colab": {
     "base_uri": "https://localhost:8080/",
     "height": 68
    },
    "colab_type": "code",
    "id": "5flC0NB5uSlk",
    "outputId": "2aa713f0-3563-4845-bdd9-5331e07e694d"
   },
   "outputs": [
    {
     "name": "stdout",
     "output_type": "stream",
     "text": [
      "Features Shape: (1, 5)\n",
      "Weights Shape: (1, 5)\n",
      "Bias Shape: (1, 1)\n"
     ]
    }
   ],
   "source": [
    "print('Features Shape:', features.shape)\n",
    "print('Weights Shape:', weights.shape)\n",
    "print('Bias Shape:', bias.shape)"
   ]
  },
  {
   "cell_type": "markdown",
   "metadata": {
    "colab_type": "text",
    "id": "lC0vZqQWvBon"
   },
   "source": [
    "Now, we need to change the shape of the `weights` tensor to get the matrix multiplication to work. However, if we use the `tf.matmul(a,b)` function, this will not be necessary because the `tf.matmul(a,b)` function has the `transpose_a` and `transpose_b` arguments that allows us to transpose the `a` or `b` tensors for the multiplication without actually changing the shape of the tensor permanently. Therefore, in this case we can use the argument `transpose_b = True` to transpose the `weights` tensor from `(1,5)` to `(5,1)` just for the multiplication.\n",
    "\n",
    "> **Exercise**: Calculate the output of our little network using matrix multiplication."
   ]
  },
  {
   "cell_type": "code",
   "execution_count": 9,
   "metadata": {
    "colab": {
     "base_uri": "https://localhost:8080/",
     "height": 51
    },
    "colab_type": "code",
    "id": "iIQOahT4kg4H",
    "outputId": "273d8dcb-ade7-46ad-f720-6c439e837d4d"
   },
   "outputs": [
    {
     "name": "stdout",
     "output_type": "stream",
     "text": [
      "label:\n",
      " tf.Tensor([[0.3628656]], shape=(1, 1), dtype=float32)\n"
     ]
    }
   ],
   "source": [
    "## Solution\n",
    "y = sigmoid_activation(tf.matmul(features, weights, transpose_b = True) + bias)\n",
    "\n",
    "print('label:\\n', y)"
   ]
  },
  {
   "cell_type": "markdown",
   "metadata": {
    "colab_type": "text",
    "id": "pxzezexmkpzs"
   },
   "source": [
    "We can see that we get the same value as before. Now let's check that the shape of the `weights` tensor has not been permanently changed by the `transpose_b = True` argument. "
   ]
  },
  {
   "cell_type": "code",
   "execution_count": 10,
   "metadata": {
    "colab": {
     "base_uri": "https://localhost:8080/",
     "height": 34
    },
    "colab_type": "code",
    "id": "XoESCJcLkrI5",
    "outputId": "d771c85d-ba0b-4a17-cff1-812edf3aa61b"
   },
   "outputs": [
    {
     "name": "stdout",
     "output_type": "stream",
     "text": [
      "Weights Shape: (1, 5)\n"
     ]
    }
   ],
   "source": [
    "print('Weights Shape:', weights.shape)"
   ]
  },
  {
   "cell_type": "markdown",
   "metadata": {
    "colab_type": "text",
    "id": "hYAyS685kv4e"
   },
   "source": [
    "As we can see, the shape of the `weights` tensor remains unchanged."
   ]
  },
  {
   "cell_type": "markdown",
   "metadata": {
    "colab_type": "text",
    "id": "ktu4Jfq3kzWx"
   },
   "source": [
    "## Multi-Layer Neural Network\n",
    "\n",
    "That's how you can calculate the output for a single neuron. The real power of this algorithm happens when you start stacking these individual units into layers and stacks of layers, into a network of neurons. The output of one layer of neurons becomes the input for the next layer. With multiple input units and output units, we now need to express the weights as a matrix.\n",
    "\n",
    "<img src='assets/multilayer_diagram_weights.png' width=450px>\n",
    "\n",
    "In the diagram above, the first layer shown on the bottom are the inputs, understandably called the **input layer**. The middle layer is called the **hidden layer**, and the final layer (on the top) is the **output layer**. We can express this network mathematically with matrices and use matrix multiplication to get linear combinations for each unit in one operation. For example, the hidden layer (comprised of units $h_1$ and $h_2$) can be calculated as follows:\n",
    "\n",
    "$$\n",
    "\\vec{h} = [h_1 \\, h_2] = \n",
    "\\begin{bmatrix}\n",
    "x_1 \\, x_2 \\cdots \\, x_n\n",
    "\\end{bmatrix}\n",
    "\\cdot \n",
    "\\begin{bmatrix}\n",
    "           w_{11} & w_{12} \\\\\n",
    "           w_{21} &w_{22} \\\\\n",
    "           \\vdots &\\vdots \\\\\n",
    "           w_{n1} &w_{n2}\n",
    "\\end{bmatrix}\n",
    "$$\n",
    "\n",
    "The output for this small network is found by treating the hidden layer as inputs for the output unit. The network output is expressed simply as:\n",
    "\n",
    "$$\n",
    "y =  f_2 \\! \\left(\\, f_1 \\! \\left(\\vec{x} \\, \\mathbf{W_1}\\right) \\mathbf{W_2} \\right)\n",
    "$$"
   ]
  },
  {
   "cell_type": "code",
   "execution_count": 11,
   "metadata": {
    "colab": {},
    "colab_type": "code",
    "id": "yWRfPCIKkwZb"
   },
   "outputs": [],
   "source": [
    "# Set the random seed so things are reproducible\n",
    "tf.random.set_seed(7) \n",
    "\n",
    "# Create 3 random input features\n",
    "features = tf.random.normal((1,3))\n",
    "\n",
    "# Define the size of each layer in our network\n",
    "n_input = features.shape[1]     # Number of input units, must match number of input features\n",
    "n_hidden = 2                    # Number of hidden units \n",
    "n_output = 1                    # Number of output units\n",
    "\n",
    "# Create random weights connecting the inputs to the hidden layer\n",
    "W1 = tf.random.normal((n_input,n_hidden))\n",
    "\n",
    "# Create random weights connecting the hidden layer to the output layer\n",
    "W2 = tf.random.normal((n_hidden, n_output))\n",
    "\n",
    "# Create random bias terms for the hidden and output layers\n",
    "B1 = tf.random.normal((1,n_hidden))\n",
    "B2 = tf.random.normal((1, n_output))"
   ]
  },
  {
   "cell_type": "markdown",
   "metadata": {
    "colab_type": "text",
    "id": "cCRRqGFik5N8"
   },
   "source": [
    "> **Exercise:** Calculate the output for this multi-layer network using the weights `W1` & `W2`, and the biases, `B1` & `B2`. "
   ]
  },
  {
   "cell_type": "code",
   "execution_count": 12,
   "metadata": {
    "colab": {
     "base_uri": "https://localhost:8080/",
     "height": 34
    },
    "colab_type": "code",
    "id": "eKKfk_jyk5_n",
    "outputId": "fc2f418d-21f7-458f-8905-36dd9bdc183e"
   },
   "outputs": [
    {
     "name": "stdout",
     "output_type": "stream",
     "text": [
      "tf.Tensor([[0.10678572]], shape=(1, 1), dtype=float32)\n"
     ]
    }
   ],
   "source": [
    "## Solution\n",
    "h = sigmoid_activation(tf.matmul(features, W1) + B1)\n",
    "output = sigmoid_activation(tf.matmul(h, W2) + B2)\n",
    "\n",
    "print(output)"
   ]
  },
  {
   "cell_type": "markdown",
   "metadata": {
    "colab_type": "text",
    "id": "9Q1QzBpFlAFj"
   },
   "source": [
    "If you did this correctly, you should see the output: `tf.Tensor([[0.10678572]], shape=(1, 1), dtype=float32)`\n",
    "\n",
    "The number of hidden units is a parameter of the network, often called a **hyperparameter** to differentiate it from the weights and biases parameters. As you'll see later when we discuss training a neural network, the more hidden layers and units a network has, the better able it will be able to learn from data and make accurate predictions."
   ]
  },
  {
   "cell_type": "markdown",
   "metadata": {
    "colab_type": "text",
    "id": "qASlsncVlDRi"
   },
   "source": [
    "## NumPy to TensorFlow and Back\n",
    "\n",
    "This is a special bonus section! TensorFlow has a great feature for converting between NumPy's `ndarrays` and its `tf.Tensors`. To create a tensor from a NumPy ndarray, use `tf.convert_to_tensor()`. To convert a tensor to a NumPy array, use the `.numpy()` method. Below are some examples:"
   ]
  },
  {
   "cell_type": "code",
   "execution_count": 13,
   "metadata": {
    "colab": {
     "base_uri": "https://localhost:8080/",
     "height": 102
    },
    "colab_type": "code",
    "id": "5MHSE0uqlAsS",
    "outputId": "22d3e319-e6c3-4bce-8f92-5414558df10c"
   },
   "outputs": [
    {
     "name": "stdout",
     "output_type": "stream",
     "text": [
      "<class 'numpy.ndarray'>\n",
      "[[0.54886367 0.82230384 0.77368386]\n",
      " [0.66588251 0.07566248 0.66617935]\n",
      " [0.154524   0.18227005 0.75722905]\n",
      " [0.74922899 0.6049299  0.53378178]]\n"
     ]
    }
   ],
   "source": [
    "# Set the random seed so things are reproducible\n",
    "tf.random.set_seed(7) \n",
    "\n",
    "a = np.random.rand(4,3)\n",
    "\n",
    "print(type(a))\n",
    "print(a)"
   ]
  },
  {
   "cell_type": "code",
   "execution_count": 14,
   "metadata": {
    "colab": {
     "base_uri": "https://localhost:8080/",
     "height": 102
    },
    "colab_type": "code",
    "id": "VceuFk3GlKKL",
    "outputId": "8691f3b8-8b74-403c-cf5a-f7274aef0c9c"
   },
   "outputs": [
    {
     "name": "stdout",
     "output_type": "stream",
     "text": [
      "tf.Tensor(\n",
      "[[0.54886367 0.82230384 0.77368386]\n",
      " [0.66588251 0.07566248 0.66617935]\n",
      " [0.154524   0.18227005 0.75722905]\n",
      " [0.74922899 0.6049299  0.53378178]], shape=(4, 3), dtype=float64)\n"
     ]
    }
   ],
   "source": [
    "b = tf.convert_to_tensor(a)\n",
    "\n",
    "print(b)"
   ]
  },
  {
   "cell_type": "code",
   "execution_count": 15,
   "metadata": {
    "colab": {
     "base_uri": "https://localhost:8080/",
     "height": 102
    },
    "colab_type": "code",
    "id": "QOh6E9SBlMzj",
    "outputId": "40de0a13-be50-4c94-cd9b-fc20e1396646"
   },
   "outputs": [
    {
     "name": "stdout",
     "output_type": "stream",
     "text": [
      "<class 'numpy.ndarray'>\n",
      "[[0.54886367 0.82230384 0.77368386]\n",
      " [0.66588251 0.07566248 0.66617935]\n",
      " [0.154524   0.18227005 0.75722905]\n",
      " [0.74922899 0.6049299  0.53378178]]\n"
     ]
    }
   ],
   "source": [
    "c = b.numpy()\n",
    "\n",
    "print(type(c))\n",
    "print(c)"
   ]
  },
  {
   "cell_type": "markdown",
   "metadata": {
    "colab_type": "text",
    "id": "Ua9iXmXBlP4M"
   },
   "source": [
    "If you change the values of the Tensor, the values of the ndarray will not change, and vice-versa."
   ]
  },
  {
   "cell_type": "code",
   "execution_count": 16,
   "metadata": {
    "colab": {
     "base_uri": "https://localhost:8080/",
     "height": 102
    },
    "colab_type": "code",
    "id": "BC_O_BcOlTHa",
    "outputId": "c49af615-b311-4c6c-c66d-636f32dd654b"
   },
   "outputs": [
    {
     "name": "stdout",
     "output_type": "stream",
     "text": [
      "tf.Tensor(\n",
      "[[21.954547   32.89215374 30.94735447]\n",
      " [26.63530024  3.02649937 26.64717406]\n",
      " [ 6.18096007  7.29080187 30.28916193]\n",
      " [29.96915979 24.19719589 21.35127138]], shape=(4, 3), dtype=float64)\n"
     ]
    }
   ],
   "source": [
    "# Multiply TensorFlow Tensor by 40\n",
    "b = b * 40\n",
    "\n",
    "print(b)"
   ]
  },
  {
   "cell_type": "code",
   "execution_count": 17,
   "metadata": {
    "colab": {
     "base_uri": "https://localhost:8080/",
     "height": 85
    },
    "colab_type": "code",
    "id": "R1gxSglFlV2R",
    "outputId": "3944e74f-62c4-4222-d505-b647ea24f4e1"
   },
   "outputs": [
    {
     "data": {
      "text/plain": [
       "array([[0.54886367, 0.82230384, 0.77368386],\n",
       "       [0.66588251, 0.07566248, 0.66617935],\n",
       "       [0.154524  , 0.18227005, 0.75722905],\n",
       "       [0.74922899, 0.6049299 , 0.53378178]])"
      ]
     },
     "execution_count": 17,
     "metadata": {},
     "output_type": "execute_result"
    }
   ],
   "source": [
    "# NumPy array stays the same\n",
    "a"
   ]
  },
  {
   "cell_type": "code",
   "execution_count": 18,
   "metadata": {
    "colab": {
     "base_uri": "https://localhost:8080/",
     "height": 85
    },
    "colab_type": "code",
    "id": "4tkHnTSbNKdE",
    "outputId": "85afcc3d-cfdd-4db0-e246-3e05ff76a04e"
   },
   "outputs": [
    {
     "data": {
      "text/plain": [
       "array([[0.54886367, 0.82230384, 0.77368386],\n",
       "       [0.66588251, 0.07566248, 0.66617935],\n",
       "       [0.154524  , 0.18227005, 0.75722905],\n",
       "       [0.74922899, 0.6049299 , 0.53378178]])"
      ]
     },
     "execution_count": 18,
     "metadata": {},
     "output_type": "execute_result"
    }
   ],
   "source": [
    "# NumPy array stays the same\n",
    "c"
   ]
  },
  {
   "cell_type": "code",
   "execution_count": 19,
   "metadata": {
    "colab": {
     "base_uri": "https://localhost:8080/",
     "height": 85
    },
    "colab_type": "code",
    "id": "z_vdtpxnlYUN",
    "outputId": "2788ac27-bb7f-4738-9d23-c96d09f0326a"
   },
   "outputs": [
    {
     "name": "stdout",
     "output_type": "stream",
     "text": [
      "[[1.54886367 1.82230384 1.77368386]\n",
      " [1.66588251 1.07566248 1.66617935]\n",
      " [1.154524   1.18227005 1.75722905]\n",
      " [1.74922899 1.6049299  1.53378178]]\n"
     ]
    }
   ],
   "source": [
    "# Add 1 to NumPy ndarray\n",
    "a = a + 1\n",
    "\n",
    "print(a)"
   ]
  },
  {
   "cell_type": "code",
   "execution_count": 20,
   "metadata": {
    "colab": {
     "base_uri": "https://localhost:8080/",
     "height": 102
    },
    "colab_type": "code",
    "id": "sdtiRFFDlblU",
    "outputId": "67e8adc1-55e0-498a-de20-f4f2512ce961"
   },
   "outputs": [
    {
     "name": "stdout",
     "output_type": "stream",
     "text": [
      "tf.Tensor(\n",
      "[[21.954547   32.89215374 30.94735447]\n",
      " [26.63530024  3.02649937 26.64717406]\n",
      " [ 6.18096007  7.29080187 30.28916193]\n",
      " [29.96915979 24.19719589 21.35127138]], shape=(4, 3), dtype=float64)\n"
     ]
    }
   ],
   "source": [
    "# Tensor stays the same\n",
    "print(b)"
   ]
  },
  {
   "cell_type": "code",
   "execution_count": 21,
   "metadata": {},
   "outputs": [
    {
     "data": {
      "text/plain": [
       "array([[0.54886367, 0.82230384, 0.77368386],\n",
       "       [0.66588251, 0.07566248, 0.66617935],\n",
       "       [0.154524  , 0.18227005, 0.75722905],\n",
       "       [0.74922899, 0.6049299 , 0.53378178]])"
      ]
     },
     "execution_count": 21,
     "metadata": {},
     "output_type": "execute_result"
    }
   ],
   "source": [
    "# NumPy array stays the same\n",
    "c"
   ]
  }
 ],
 "metadata": {
  "colab": {
   "collapsed_sections": [],
   "name": "Part 1 - Introduction to Neural Networks with TensorFlow (Solution).ipynb",
   "provenance": [],
   "version": "0.3.2"
  },
  "kernelspec": {
   "display_name": "Python 3",
   "language": "python",
   "name": "python3"
  },
  "language_info": {
   "codemirror_mode": {
    "name": "ipython",
    "version": 3
   },
   "file_extension": ".py",
   "mimetype": "text/x-python",
   "name": "python",
   "nbconvert_exporter": "python",
   "pygments_lexer": "ipython3",
   "version": "3.6.8"
  }
 },
 "nbformat": 4,
 "nbformat_minor": 1
}
